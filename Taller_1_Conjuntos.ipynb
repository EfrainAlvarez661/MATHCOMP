{
  "nbformat": 4,
  "nbformat_minor": 0,
  "metadata": {
    "colab": {
      "provenance": []
    },
    "kernelspec": {
      "name": "python3",
      "display_name": "Python 3"
    },
    "language_info": {
      "name": "python"
    }
  },
  "cells": [
    {
      "cell_type": "code",
      "execution_count": null,
      "metadata": {
        "id": "f-FIMJJxckOW"
      },
      "outputs": [],
      "source": []
    },
    {
      "cell_type": "markdown",
      "source": [
        "#Teoria de conjuntos"
      ],
      "metadata": {
        "id": "9qRba9r0dO1B"
      }
    },
    {
      "cell_type": "code",
      "source": [],
      "metadata": {
        "id": "2IPEM804ds-w"
      },
      "execution_count": null,
      "outputs": []
    }
  ]
}